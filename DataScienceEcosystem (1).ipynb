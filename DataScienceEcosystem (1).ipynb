{
 "cells": [
  {
   "cell_type": "markdown",
   "id": "a4bc87fc-60d4-4012-bd60-06a7b9b413a6",
   "metadata": {},
   "source": [
    "# Data Science Tools and Ecosystem\n"
   ]
  },
  {
   "cell_type": "markdown",
   "id": "6338bf78-368e-4642-9ead-6e84c55e4923",
   "metadata": {},
   "source": [
    "In this notebook, Data Science Tools and Ecosystem are summarized."
   ]
  },
  {
   "cell_type": "markdown",
   "id": "1f09b64f-df88-43ba-8123-849f9f52ca16",
   "metadata": {},
   "source": [
    "**Objectives**"
   ]
  },
  {
   "cell_type": "markdown",
   "id": "9c99ff1b-8640-4488-9cfc-5027621f291a",
   "metadata": {},
   "source": [
    "+ List popular languages for Data Science\n",
    "* Some of the commonly used libraries used by Data Scientists include\n",
    "- Below are a few examples of evaluating arithmetic expressions in Python"
   ]
  },
  {
   "cell_type": "markdown",
   "id": "43551bd0-cfbe-4d0f-bd9d-a980e6a50a3d",
   "metadata": {},
   "source": [
    "Some of the popular languages that Data Scientists use are"
   ]
  },
  {
   "cell_type": "markdown",
   "id": "162defcf-19ce-46cb-894e-ba65aebb148e",
   "metadata": {
    "tags": []
   },
   "source": [
    "1. R\n",
    "2. Java\n",
    "3. SQL\n",
    "4. Julia"
   ]
  },
  {
   "cell_type": "markdown",
   "id": "07a72b8b-bca7-44b4-8c3f-c7f41d3ef79d",
   "metadata": {},
   "source": [
    " Some of the commonly used libraries used by Data Scientists include"
   ]
  },
  {
   "cell_type": "markdown",
   "id": "c819b5d2-a2f8-46e8-bd0c-ed6afe7f5220",
   "metadata": {},
   "source": [
    "1. TesnorFlow\n",
    "2. NumPy\n",
    "3. SciPy\n",
    "4. Pandas"
   ]
  },
  {
   "cell_type": "markdown",
   "id": "fc27fc95-1928-4703-a0f8-9aa4c0f97498",
   "metadata": {},
   "source": [
    "Below are a few examples of evaluating arithmetic expressions in Python."
   ]
  },
  {
   "cell_type": "code",
   "execution_count": 3,
   "id": "ad8a9e6d-92d0-4409-9f6f-0bf0e4fae8a3",
   "metadata": {
    "tags": []
   },
   "outputs": [],
   "source": [
    "# This a simple arithmetic expression to mutiply then add integers"
   ]
  },
  {
   "cell_type": "code",
   "execution_count": 4,
   "id": "fdec6ff7-04b0-4b8b-b541-92183c12eb7b",
   "metadata": {
    "tags": []
   },
   "outputs": [
    {
     "data": {
      "text/plain": [
       "17"
      ]
     },
     "execution_count": 4,
     "metadata": {},
     "output_type": "execute_result"
    }
   ],
   "source": [
    "(3*4)+5"
   ]
  },
  {
   "cell_type": "code",
   "execution_count": 5,
   "id": "f0e71d74-eb4e-402f-afc8-182b62f32d76",
   "metadata": {
    "tags": []
   },
   "outputs": [],
   "source": [
    "#This will convert 200 minutes to hours by diving by 60"
   ]
  },
  {
   "cell_type": "code",
   "execution_count": 6,
   "id": "ea334e02-cbf8-4c74-9a1e-6f3b700c7d24",
   "metadata": {
    "tags": []
   },
   "outputs": [
    {
     "data": {
      "text/plain": [
       "3.3333333333333335"
      ]
     },
     "execution_count": 6,
     "metadata": {},
     "output_type": "execute_result"
    }
   ],
   "source": [
    "200/60"
   ]
  },
  {
   "cell_type": "markdown",
   "id": "3aad4abc-187a-446b-a044-5688b0b97f5b",
   "metadata": {},
   "source": [
    "## Author"
   ]
  },
  {
   "cell_type": "markdown",
   "id": "fdbe6d1b-1489-4b73-af7f-0e072248bf3f",
   "metadata": {},
   "source": [
    "MD Asadullah"
   ]
  },
  {
   "cell_type": "code",
   "execution_count": null,
   "id": "0aa06468-042d-4731-9b68-dd0787496e93",
   "metadata": {},
   "outputs": [],
   "source": []
  }
 ],
 "metadata": {
  "kernelspec": {
   "display_name": "Python",
   "language": "python",
   "name": "conda-env-python-py"
  },
  "language_info": {
   "codemirror_mode": {
    "name": "ipython",
    "version": 3
   },
   "file_extension": ".py",
   "mimetype": "text/x-python",
   "name": "python",
   "nbconvert_exporter": "python",
   "pygments_lexer": "ipython3",
   "version": "3.7.12"
  }
 },
 "nbformat": 4,
 "nbformat_minor": 5
}
